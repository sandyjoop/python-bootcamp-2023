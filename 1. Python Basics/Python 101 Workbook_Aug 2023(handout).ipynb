{
 "cells": [
  {
   "cell_type": "markdown",
   "id": "9b72f354",
   "metadata": {},
   "source": [
    "# Introduction to Python\n",
    "\n",
    "Python is a general purpose and high-level programming language. It's great for developing desktop GUI applications, websites and web applications, and also is one of the bread and butter programming languages for data science. With simple to learn syntax rules Python makes it easier for you to keep the code base readable and application maintainable.\n",
    "\n",
    "Python is great because it:\n",
    "- **_Simplifies complex software development_**: Because of its robust libraries, you can focus on design instead of low level code details\n",
    "- **_Has many open source frameworks and tools_**: With a *huge* developer community online, there are many open source packages allowing you to do everything from web development, to data science, to machine learning and many other things.\n",
    "- **_Easy to read and maintainable_**: Python and the PEP8 stytle guide encourages simple readable code which allows for easy upkeep and collaboration.\n",
    "- **_Compatible with major platforms and systems_**: Pretty much everything has a Python API to allow you to interface with it, from OS's through to service providers (e.g. AWS, GCP, Azure)\n",
    "\n",
    "However, Python is not a panacea and it isn't so great for:\n",
    "- **_Super fast, realtime functionality_**: Whilst many Python libraries use C under the hood to keep operations fast, this is not consistent and can be difficult when trying to keep realtime operations (e.g. Optimal Reality using AWS Panorama)\n",
    "- **_Specific tasks_**: Python has a lot of breadth but lacks depth when it comes to some tasks like RPA and data storage, where bespoke languages are often better suited.\n",
    "\n"
   ]
  },
  {
   "cell_type": "markdown",
   "id": "b2458321",
   "metadata": {},
   "source": [
    "## Pre-Workshop: Understanding How Jupyter Notebooks work\n",
    "\n",
    "One of the great tools created for Python is Jupyter Notebooks. These act as little Python environments where you can develop and run code in a live environment to get results and then explore/present the results in an easy to digest manner. \n",
    "\n",
    "But before we dive in, there's a couple of things to note about how notebooks work.\n",
    "\n",
    "1. Each section runs as a cell. These cells can be:\n",
    "  - **Markdown** - to present nicely formatted (same formatting as GitHub) text like this\n",
    "  - **Code** - these sections are used to run code\n",
    "2. Code cells run sequentially: On the left hand margin for each code section you'll see a set of brackets [ ]. When you run a cell, a number will be put in there to reflect the order that the code was run in. This means **your code remembers what has already run** but **does not remember what has not run yet**\n",
    "3. Cells can be run individually or all at once.\n",
    " - To run cells individually, either click the Run button on the top menu, or press `Shift` + `Enter`\n",
    " - To run a cell and *not select* the next cell press `Ctrl` + `Enter`\n",
    " - To run all cells, either click the fast-forward button on the top menu or press `Ctrl` + `A` to select all cells and then `Ctrl` + `Enter` to run them\n",
    "4. The notebook can be reset by restarting the kernel. Think of the kernel as the brain of your notebook - it has the memory of what you've done as well as knowing what language to read things in. We can:\n",
    " - Interrupt the kernel: when code is running the kernel is directing what to do. If we have our code stuck (e.g. stuck in a forever loop) we may want to stop it from doing what it's doing. We can do this by clicking the Stop button on the top menu\n",
    " - Reset the kernel: by clicking the replay button on the top menu, which resets everything in our notebook (clears all variables and starts the notebook as if it had been opened for the first time\n",
    " - *Advanced* Configure our kernel: if we want to change what language we are using in our notebook, we can change this by changing the kernel from the dropdown \"Kernel\" menu.\n",
    " \n",
    " \n",
    " **a quick way of getting information for a function `shift`+`tab`**\n",
    " "
   ]
  },
  {
   "cell_type": "markdown",
   "id": "fa4f7497",
   "metadata": {},
   "source": [
    "The below function is a simple function that just adds 1 to whatever input number - `my_num` - is provided. But we need to define the function before we use it. Try running each cell in order. Notice that the first cell shows an error because we haven't defined the function `Add_One` yet, but the third cell does run. If we keep running the third cell, we keep adding 1 to test_number. \n",
    "\n",
    "#### Question:\n",
    "What will `test_number` be if we re-run the first cell?"
   ]
  },
  {
   "cell_type": "code",
   "execution_count": null,
   "id": "28907263",
   "metadata": {},
   "outputs": [],
   "source": [
    "test_number = 1\n",
    "test_number = Add_One(test_number)\n",
    "print(test_number)"
   ]
  },
  {
   "cell_type": "code",
   "execution_count": null,
   "id": "9d993fd1",
   "metadata": {},
   "outputs": [],
   "source": [
    "def Add_One(my_num):\n",
    "    return my_num + 1"
   ]
  },
  {
   "cell_type": "markdown",
   "id": "002eaf56",
   "metadata": {},
   "source": [
    "What happens if we run this cell once? What happens if we run it multiple times?"
   ]
  },
  {
   "cell_type": "code",
   "execution_count": null,
   "id": "357f648b",
   "metadata": {},
   "outputs": [],
   "source": [
    "test_number = Add_One(test_number)\n",
    "print(test_number)"
   ]
  },
  {
   "attachments": {},
   "cell_type": "markdown",
   "id": "d01b2171",
   "metadata": {},
   "source": [
    "## Section 1: Variables\n",
    "\n",
    "Variables are how programming languages keep track of data values that need to be constantly updated. We saw from the code snippet above an example of a variable `test_number` which changed every time we ran a cell of code. Note that variables are only remembered for as long as you have your Python environment set up and get wiped when we reset the kernel.\n",
    "\n",
    "- basic unit of storage for a program\n",
    "- can be created or destroyed\n",
    "- at a hardware level, a variable is a reference to a location in memory\n",
    "- programs perform operations on variables\n",
    "\n",
    "When in doubt as to what format a variable is, you can always check by entering: `type(<your_variable_here>)` \n",
    "\n",
    "<font color='red'> As you progress through programming you will also see the Objects. Objects are just a collection of variables with operations.</font>\n",
    "\n",
    "\n",
    "\n",
    "### Best Practices for Variables\n",
    "When working with variables, there are a couple of conventions that make life easier. These are:\n",
    "- Remembering that **variables are case sensitive**: This means that `test_variable` is different to `Test_Variable`\n",
    "- Give variables meaningful names: Whilst calling a variable `Blah` may be easy to do, it doesn't tell us what it is. For example if we were dealing with a temperature measuring program, maybe we'd store the current temperature as `Temp_Current`\n",
    "- Variables can also include numbers: You can code variables to have a number to differentiate between them e.g. `Score_1` is a valid variable name and can be used to differentiate from `Score_2`.\n",
    "\n",
    "\n",
    "### Main datatypes: \n",
    "Numbers, strings, lists, tuples, sets, dictionaries, files."
   ]
  },
  {
   "cell_type": "markdown",
   "id": "33547485",
   "metadata": {},
   "source": [
    "### 1.1 Numerical Data:\n",
    "Numerical data is the most basic form of variable. \n",
    "\n",
    "As we can see below, our variable `test_number` is an integer (whole number). \n",
    "\n",
    "Let's create some floating number variables and see how they interact."
   ]
  },
  {
   "cell_type": "code",
   "execution_count": null,
   "id": "45c8d960",
   "metadata": {},
   "outputs": [],
   "source": [
    "type(test_number)"
   ]
  },
  {
   "cell_type": "code",
   "execution_count": null,
   "id": "9e8ac3cd",
   "metadata": {},
   "outputs": [],
   "source": [
    "Melb_Temp = 26.5\n",
    "Temp_Drop = 1.7\n",
    "New_Temp = Melb_Temp - Temp_Drop\n",
    "print(New_Temp)"
   ]
  },
  {
   "cell_type": "markdown",
   "id": "d3d24076",
   "metadata": {},
   "source": [
    "#### Exercise 1 - Basic number operations\n",
    "\n",
    "Now it's your turn, try to create two variables (giving them intelligent names) and *multiply* the two variables together. Then print the output to the console"
   ]
  },
  {
   "cell_type": "code",
   "execution_count": null,
   "id": "abc41f01",
   "metadata": {},
   "outputs": [],
   "source": []
  },
  {
   "cell_type": "markdown",
   "id": "f8e524da",
   "metadata": {},
   "source": [
    "#### Challenge \n",
    "What happens to the data type of `test_number` if we multiply it by 1.0? Why is this the case?"
   ]
  },
  {
   "cell_type": "code",
   "execution_count": null,
   "id": "0e080bad",
   "metadata": {},
   "outputs": [],
   "source": []
  },
  {
   "cell_type": "markdown",
   "id": "2ed7faf9",
   "metadata": {},
   "source": [
    "### 1.2 Text Data\n",
    "\n",
    "Text data is another useful type of data which is often used when doing things as simple as file manipulation (e.g. renaming files in bulk) or doing complex things like Natural Language Processing. \n",
    "\n",
    " Note, that strings don't necessarily have to be letters, we can also have numerical strings. \n",
    "\n",
    "Let's explore how it works below."
   ]
  },
  {
   "cell_type": "code",
   "execution_count": null,
   "id": "24e5b810",
   "metadata": {},
   "outputs": [],
   "source": [
    "string_1 = \"Hello\"\n",
    "print(type(string_1))\n",
    "print(string_1)"
   ]
  },
  {
   "cell_type": "markdown",
   "id": "f751f3a2",
   "metadata": {},
   "source": [
    "Strings can also be added together just like number can to concatenate them"
   ]
  },
  {
   "cell_type": "code",
   "execution_count": null,
   "id": "2fe06b0c",
   "metadata": {},
   "outputs": [],
   "source": [
    "string_2 = \" World!\"\n",
    "string_1 + string_2"
   ]
  },
  {
   "cell_type": "markdown",
   "id": "bfcec8f0",
   "metadata": {},
   "source": [
    "One thing to note is that different data types don't necessarily play well together. Let's see what happens when we try to do '1' + 1."
   ]
  },
  {
   "cell_type": "code",
   "execution_count": null,
   "id": "6a431f0e",
   "metadata": {},
   "outputs": [],
   "source": [
    "string_number = '1'\n",
    "string_number + 1"
   ]
  },
  {
   "cell_type": "markdown",
   "id": "5031d5ba",
   "metadata": {},
   "source": [
    "#### Challenge\n",
    "We can fix this though a process called typecasting, which is where we convert from one type of data into another. Let's see how typecasting works below. "
   ]
  },
  {
   "cell_type": "code",
   "execution_count": null,
   "id": "9e49923c",
   "metadata": {},
   "outputs": [],
   "source": [
    "print(type(string_number))\n",
    "print(type(int(string_number)))"
   ]
  },
  {
   "cell_type": "markdown",
   "id": "fc76c7f6",
   "metadata": {},
   "source": [
    "Now that you know how to typecast, edit the following code to make 1+1=2\n",
    "> `'1' + 1`"
   ]
  },
  {
   "attachments": {},
   "cell_type": "markdown",
   "id": "8273c82c",
   "metadata": {},
   "source": [
    "### 1.2.1 String Functions\n",
    "\n",
    " Strings come equipped with a set of built-in functions, allowing developers to perform a plethora of operations like modification, checking properties, or deriving new information. These functions enable more effective and efficient string manipulations, making them powerful tools in the python toolbox\n",
    "\n",
    "\n",
    " Certainly. Here's an introduction and a table summarising some of the most popular string functions in Python.\n",
    "\n",
    "---\n",
    "\n",
    "**Table of Popular String Functions:**\n",
    "\n",
    "| Function              | Description                                    | Example Usage                 | Result           |\n",
    "|-----------------------|------------------------------------------------|-------------------------------|------------------|\n",
    "| `str.upper()`         | Converts all characters in string to uppercase | `\"hello\".upper()`             | \"HELLO\"          |\n",
    "| `str.lower()`         | Converts all characters in string to lowercase | `\"HELLO\".lower()`             | \"hello\"          |\n",
    "| `str.capitalize()`    | Capitalizes the first character of the string  | `\"hello world\".capitalize()`  | \"Hello world\"    |\n",
    "| `str.title()`         | Capitalizes the first character of each word   | `\"hello world\".title()`       | \"Hello World\"    |\n",
    "| `str.startswith(sub)` | Checks if string starts with the substring     | `\"hello\".startswith(\"he\")`    | True             |\n",
    "| `str.endswith(sub)`   | Checks if string ends with the substring       | `\"hello\".endswith(\"lo\")`      | True             |\n",
    "| `str.find(sub)`       | Returns the first position of the substring    | `\"hello\".find(\"l\")`           | 2                |\n",
    "| `str.replace(old, new)`| Replaces old substring with new one           | `\"hello\".replace(\"l\", \"r\")`   | \"herro\"          |\n",
    "| `str.split(sep)`      | Splits the string at each sep                  | `\"hello world\".split(\" \")`    | ['hello', 'world']|\n",
    "| `str.join(iterable)`  | Joins the iterable into a string using str     | `\"-\".join([\"a\", \"b\", \"c\"])`   | \"a-b-c\"          |\n",
    "| `str.strip(chars)`    | Removes any character in chars from the start and end of the string | `\" hello \".strip()` | \"hello\" |\n",
    "| `str.isdigit()`       | Checks if all characters in the string are digits | `\"123\".isdigit()`          | True             |\n",
    "\n",
    "\n"
   ]
  },
  {
   "attachments": {},
   "cell_type": "markdown",
   "id": "ceedc9c3",
   "metadata": {},
   "source": [
    "**Challenge Question:**\n",
    "\n",
    "You are given a raw dataset containing user reviews for various products. Before conducting any Natural Language Processing (NLP) tasks, it's crucial to pre-process and clean the data. Given the sample review below:\n",
    "\n",
    "```python\n",
    "raw_review = \"   HEy! This is a SaMPLE product review. I absolutely love it, but the colour, not so much.    \"\n",
    "```\n",
    "\n",
    "Perform the following pre-processing steps:\n",
    "\n",
    "1. Convert the entire review to lowercase to maintain consistency.\n",
    "2. Remove any leading or trailing white spaces from the review.\n",
    "3. Split the review into individual sentences.\n",
    "\n",
    "Use the Python string functions you've learned to achieve the above steps.\n",
    "\n",
    "---\n",
    "\n",
    "**Expected Output of each Step**\n",
    "\n",
    "1. `\"   hey! this is a sample product review. i absolutely love it, but the colour, not so much.    \"`\n",
    "2. `\"hey! this is a sample product review. i absolutely love it, but the colour, not so much.\"`\n",
    "3. `[\"hey! this is a sample product review.\", \"i absolutely love it, but the colour, not so much.\"]`\n",
    "\n",
    "**Please Provide Answer Below**"
   ]
  },
  {
   "cell_type": "code",
   "execution_count": null,
   "id": "2959e22a",
   "metadata": {},
   "outputs": [],
   "source": [
    "raw_review = \"   HEy! This is a SaMPLE product review. I absolutely love it, but the colour, not so much.    \"\n",
    "\n",
    "## Start Answer Below"
   ]
  },
  {
   "attachments": {
    "image-2.png": {
     "image/png": "[encoded data removed]"
    },
    "image.png": {
     "image/png": "[encoded data removed]"
    }
   },
   "cell_type": "markdown",
   "id": "1f8981c2",
   "metadata": {},
   "source": [
    "### 1.3 Sequence Data\n",
    "\n",
    "Single variables are cool, but often we want to create groups of variables to represent different things or to create relations between variables. This is where sequence data comes into play. The key types of sequence data are:\n",
    "\n",
    "- **Lists** `[1,2,4,6,\"a\",'llama']`:  can be addressed by index (starting at 0), and can be added to or have elements removed. You can add any data type to a list and they don't all need to be the same.\n",
    "\n",
    "- **Tuples** `(1,2,4,6,\"a\",'llama')`: Immutable list, for integrity.\n",
    "\n",
    "- **Sets** `{\"Apricot\",\"Nectarine\",\"Peach\",\"Plum\"}`: An advanced sequence type that creates a statistical set (i.e. no repeating elements) - this can be useful when trying to match data against criteria (i.e. is a bit of data part of a target set of data). E.g. we could test to see if a given fruit was a stone fruit by comparing it to our set of stone fruits (see above). **Note** Sets do not retain any order, no duplicates. \n",
    "\n",
    "- **Dictionaries**: we talk about that later.\n",
    "\n",
    "![image.png](attachment:image.png)\n",
    "\n",
    "\n",
    "![image-2.png](attachment:image-2.png)\n",
    "\n",
    "Let's explore how it works below."
   ]
  },
  {
   "cell_type": "markdown",
   "id": "b5fe3f3a",
   "metadata": {},
   "source": [
    "#### Lists"
   ]
  },
  {
   "cell_type": "code",
   "execution_count": null,
   "id": "d27411ea",
   "metadata": {
    "scrolled": true
   },
   "outputs": [],
   "source": [
    "my_list = [1,2,4,6,6,6,'llama']\n",
    "\n",
    "# Print a the first list element\n",
    "# Bring up the rules of index\n",
    "print(my_list[0])\n",
    "\n",
    "# Print the last list element - Note that to pick the n'th element from the end, use my_list[-n]\n",
    "print(my_list[-1])\n",
    "\n",
    "# Remove an element from the list\n",
    "my_list.remove('llama')\n",
    "print(my_list)\n",
    "\n",
    "# Add an element to the end of the list\n",
    "my_list.append('llama')\n",
    "print(my_list)\n",
    "\n",
    "# Add an element to the third position of the list\n",
    "my_list.insert(2, 'llama')\n",
    "print(my_list)"
   ]
  },
  {
   "cell_type": "markdown",
   "id": "47e72a4f",
   "metadata": {},
   "source": [
    "#### Exercise 2 - List manipulation \n",
    "Remove all the llamas from `my_list` and then pick the 4th last element"
   ]
  },
  {
   "cell_type": "code",
   "execution_count": null,
   "id": "77d3430c",
   "metadata": {},
   "outputs": [],
   "source": []
  },
  {
   "cell_type": "markdown",
   "id": "a6550917",
   "metadata": {},
   "source": [
    "#### tuples"
   ]
  },
  {
   "cell_type": "code",
   "execution_count": null,
   "id": "fb614fdd",
   "metadata": {},
   "outputs": [],
   "source": [
    "# Creating a tuple with repeated elements\n",
    "my_tuple = (\"apple\", \"banana\", \"cherry\", \"apple\", \"cherry\") # note the brackets"
   ]
  },
  {
   "cell_type": "code",
   "execution_count": null,
   "id": "eef499ad",
   "metadata": {},
   "outputs": [],
   "source": [
    "my_list[0]=23432\n",
    "my_list"
   ]
  },
  {
   "cell_type": "code",
   "execution_count": null,
   "id": "135935b1",
   "metadata": {},
   "outputs": [],
   "source": [
    "my_tuple[0]=2312323 # trying to change an element of a tuple will result in an error message!"
   ]
  },
  {
   "cell_type": "code",
   "execution_count": null,
   "id": "5d85bf61",
   "metadata": {},
   "outputs": [],
   "source": [
    "my_tuple[0]"
   ]
  },
  {
   "cell_type": "markdown",
   "id": "f429631b",
   "metadata": {},
   "source": [
    "**Question: can you index string? is it mutable?**"
   ]
  },
  {
   "attachments": {
    "image.png": {
     "image/png": "[encoded data removed]"
    }
   },
   "cell_type": "markdown",
   "id": "c0cc5fee",
   "metadata": {},
   "source": [
    "#### Sets\n",
    "![image.png](attachment:image.png)"
   ]
  },
  {
   "cell_type": "code",
   "execution_count": null,
   "id": "d147295b",
   "metadata": {},
   "outputs": [],
   "source": [
    "stone_fruits = {\"Apricot\",\"Nectarine\",\"Peach\",\"Plum\"}\n",
    "shop_fruits = {\"Apricot\",\"Pear\",\"Cherry\",\"Apple\"}\n",
    "\n",
    "# Find the intersection between the sets\n",
    "print(stone_fruits.intersection(shop_fruits))\n",
    "\n",
    "# Find the difference between the sets\n",
    "print(stone_fruits.difference(shop_fruits))\n",
    "\n",
    "# Add another element to the stone_fruit set\n",
    "shop_fruits.add(\"Grapefruit\")\n",
    "print(shop_fruits)\n",
    "\n",
    "# Remove Apricot from the stone_fruit set\n",
    "stone_fruits.remove(\"Apricot\")\n",
    "print(stone_fruits)\n",
    "\n",
    "# Combined sets\n",
    "all_fruits = shop_fruits.union(stone_fruits)\n",
    "print(all_fruits)"
   ]
  },
  {
   "cell_type": "code",
   "execution_count": null,
   "id": "bc43ce5e",
   "metadata": {},
   "outputs": [],
   "source": [
    "stone_fruits[0]"
   ]
  },
  {
   "attachments": {},
   "cell_type": "markdown",
   "id": "225de2ef",
   "metadata": {},
   "source": [
    "### Can anyone think of any other use cases for sets? "
   ]
  },
  {
   "cell_type": "markdown",
   "id": "ab2bca30",
   "metadata": {},
   "source": [
    "#### Dictionaries\n",
    "\n",
    "**Dictionaries**`{\"Name\":\"Grant\", \"Python Skill\":\"Legendary\",\"Height\":190}`: Similar to lists, but creates pairwise relationships between keys and values. Think about how in a normal dictionary when you look up a unique word it gives you a definition, the same is true of Python dictionaries - if you search a key word, you get the value as the output. This can be used to create datasets of object (e.g. unique files for people like the dictionary above)\n"
   ]
  },
  {
   "cell_type": "code",
   "execution_count": null,
   "id": "d252760b",
   "metadata": {},
   "outputs": [],
   "source": [
    "employee_1 = {\n",
    "    \"Name\":\"Borat\", \n",
    "    \"Python Skill\":\"Very Nice\",\n",
    "    \"Height\":190, \n",
    "    \"Hobbies\":[\"Ping pong\", \"Disco Dance\", \"Archery\", \"Running Code Workshops\"]}"
   ]
  },
  {
   "cell_type": "code",
   "execution_count": null,
   "id": "f702d7f9",
   "metadata": {},
   "outputs": [],
   "source": [
    "# Retrieve the value associated with a specific key\n",
    "print(employee_1[\"Height\"])\n",
    "print(employee_1[\"Hobbies\"])"
   ]
  },
  {
   "cell_type": "code",
   "execution_count": null,
   "id": "4473970a",
   "metadata": {},
   "outputs": [],
   "source": [
    "# Update the dictionary to have a new key:value pair\n",
    "employee_1[\"age\"] = 31\n",
    "employee_1"
   ]
  },
  {
   "cell_type": "code",
   "execution_count": null,
   "id": "75201c44",
   "metadata": {},
   "outputs": [],
   "source": [
    "# Update the value associated with a key\n",
    "employee_1[\"age\"] = 21\n",
    "employee_1\n"
   ]
  },
  {
   "cell_type": "code",
   "execution_count": null,
   "id": "bf36bbdc",
   "metadata": {},
   "outputs": [],
   "source": [
    "# Remove a key-value pair using the 'del' statement\n",
    "del employee_1[\"Height\"]\n",
    "employee_1"
   ]
  },
  {
   "cell_type": "code",
   "execution_count": null,
   "id": "bf045582",
   "metadata": {},
   "outputs": [],
   "source": [
    "# Check if a key exists in the dictionary\n",
    "\"job\" in employee_1"
   ]
  },
  {
   "cell_type": "code",
   "execution_count": null,
   "id": "95a260e4",
   "metadata": {},
   "outputs": [],
   "source": [
    "# Retrieve all keys and values as lists\n",
    "all_keys = employee_1.keys()\n",
    "all_values = employee_1.values()\n",
    "all_keys, all_values"
   ]
  },
  {
   "attachments": {},
   "cell_type": "markdown",
   "id": "4d793322",
   "metadata": {},
   "source": [
    "#### Exercise 3 - Dictionary manipulation\n",
    "\n",
    "Complete the following tasks:\n",
    "\n",
    "1. Retrieve and print the height of employee_1.\n",
    "2. Update the \"Python Skill\" of employee_1 to \"Moderate\" and print the updated dictionary.\n",
    "3. Add a new key-value pair, \"Nationality\": \"Kazakh\", to the dictionary.\n",
    "4. Remove \"Archery\" from the list of hobbies.\n",
    "5. Check if \"Driving\" is one of employee_1's hobbies and print the result.\n"
   ]
  },
  {
   "cell_type": "code",
   "execution_count": null,
   "id": "6ab26b02",
   "metadata": {},
   "outputs": [],
   "source": []
  },
  {
   "cell_type": "markdown",
   "id": "018d4c58",
   "metadata": {},
   "source": [
    "## Conditional Statements\n",
    "\n",
    "Data types are cool and all, but they're not that useful if we can't do anything with them. This is where we can use conditional statements to compare variables and do something based on that result.\n",
    "\n",
    "**_Simple Logical Statements_**:\n",
    "- Equal `==`\n",
    "- Not Equal `!=`\n",
    "- Greater than (or equal to) `>` `>=`\n",
    "- Less than (or equal to) `<` `<=`\n",
    "\n",
    "**_More Complex Logical Statements_**:\n",
    "- If/Elif/Else statements\n",
    " - `if:` - If a statement is true, then do a thing\n",
    " - `elif:` - Else if another statement is true, then do a thing\n",
    " - `else:` - If all other statements are false, then do a thing\n",
    "- `and` joins multiple logical statements together and returns True if both met, otherwise False\n",
    "- `or` joins multiple logical statements together and returns True if either condition met, otherwise False\n",
    "- `not` returns the opposite of the variable"
   ]
  },
  {
   "cell_type": "code",
   "execution_count": null,
   "id": "3e7f0e28",
   "metadata": {},
   "outputs": [],
   "source": [
    "my_number = 2\n",
    "\n",
    "if my_number > 0 and my_number % 2 == 0:\n",
    "    print('This is an even number')\n",
    "elif my_number > 0 and my_number % 2 != 0:\n",
    "    print('This is an odd number')\n",
    "else:\n",
    "    print('Negative numbers cannot be odd or even')\n",
    "    \n",
    "# Note here we use the modulo operator %, which gives the remainder of whatever we divide by (e.g. 3 % 2 = 1, as 3/2 is 1 r 1)"
   ]
  },
  {
   "attachments": {},
   "cell_type": "markdown",
   "id": "446a5c5a",
   "metadata": {},
   "source": [
    "#### Exercise 4.1 - Conditional statement manipulation\n",
    "\n",
    "Background:\n",
    "At Deloitte Consulting, clients are categorised into different tiers based on their annual spending. This categorisation helps in allocating resources and benefits:\n",
    "\n",
    "- Bronze: Up to $50,000\n",
    "- Silver: $50,001 to $200,000\n",
    "- Gold: $200,001 to $500,000\n",
    "- Platinum: Above $500,000\n",
    "\n",
    "Task:\n",
    "    Write a Python program that takes an annual spending amount ($750,000) and determines the client's tier.\n",
    "\n",
    "Tip:\n",
    "You might need the following variables: project_revenue, project_cost, client_feedback, project_duration, and agreed_duration."
   ]
  },
  {
   "cell_type": "code",
   "execution_count": null,
   "id": "9c7820e4",
   "metadata": {},
   "outputs": [],
   "source": []
  },
  {
   "attachments": {},
   "cell_type": "markdown",
   "id": "84f77bba",
   "metadata": {},
   "source": [
    "#### Exercise 4.2 - Project Success Analysis ** Time Permitting\n",
    "\n",
    "Background:\n",
    "Deloitte  undertakes multiple projects throughout the year. For a project to be considered a success:\n",
    "\n",
    "- The revenue should exceed the project cost by at least 20%.\n",
    "- Client feedback rating (on a scale of 1 to 10) should be 7 or above.\n",
    "- The project should not have exceeded the agreed-upon timeline.\n",
    "\n",
    "Task:\n",
    "    Write a Python program that assesses if a project was successful based on the above criteria."
   ]
  },
  {
   "cell_type": "code",
   "execution_count": null,
   "id": "469ffd5c",
   "metadata": {},
   "outputs": [],
   "source": []
  },
  {
   "cell_type": "markdown",
   "id": "884f2584",
   "metadata": {},
   "source": [
    "## Loops\n",
    "\n",
    "Another thing we can do is to loop certain behaviours to do things a certain number of times, or keep doing something whilst a condition is true. In programming, we call these loops.\n",
    "\n",
    "In Python, we run loops by starting with `for` or `while` and then (as was also the case with if statements) use tabs to indent our loop.\n",
    "\n",
    "**_For Loops_**: For a certain number of iterations, do a thing\n",
    "\n",
    "` for <item> in <list_variable>:\n",
    "    <Run Code>`\n",
    "\n",
    "\n",
    "**_While Loops_**: While a condition is True, do a thing\n",
    "\n",
    "` while <condition>:\n",
    "    <Run Code>`\n",
    "\n",
    "**_Generate List Variables on the Fly_**:\n",
    "Often it's tedious to create lists, so python lets us make out own on the fly.\n",
    "`range(<start>,<stop>,<step>)`\n",
    "Generates a list of numbers, (default starts at 0 and counts up by steps of 1 until it reaches n)\n",
    "- Start: Optional (default 0 if left blank)\n",
    "- Stop: Must include (when to stop)\n",
    "- Step: Counts in increments of n (default 1 if left blank)\n",
    "\n",
    "`for <index>, <item> in enumerate(<List_Variable>)`\n",
    "Returns the elements of a list **_and_** its position in the list\n"
   ]
  },
  {
   "cell_type": "code",
   "execution_count": null,
   "id": "79d81ffc",
   "metadata": {},
   "outputs": [],
   "source": [
    "# print numbers from 0-9:\n",
    "for number in range(10):\n",
    "    print(number)       \n"
   ]
  },
  {
   "cell_type": "code",
   "execution_count": null,
   "id": "de1644f2",
   "metadata": {},
   "outputs": [],
   "source": [
    "# print elements from a list and what number they are:\n",
    "animals = ['cat','dog','cow','llama','sloth']\n",
    "for number, animal in enumerate(animals):\n",
    "    print(\"Item %d in the list is %s\" % (number,animal))\n"
   ]
  },
  {
   "cell_type": "code",
   "execution_count": null,
   "id": "5b788ded",
   "metadata": {},
   "outputs": [],
   "source": [
    "# print numbers up to 10:\n",
    "num = 0\n",
    "\n",
    "while num <= 10:\n",
    "    print(num)\n",
    "    num += 1"
   ]
  },
  {
   "cell_type": "code",
   "execution_count": null,
   "id": "1172c426",
   "metadata": {},
   "outputs": [],
   "source": [
    "# Add to the meme while length < 10:\n",
    "meme = 'skr'\n",
    "num = 0\n",
    "\n",
    "while num < 10:\n",
    "    meme = meme + 'r'\n",
    "    print(\"car goes \" + meme)\n",
    "    num += 1\n"
   ]
  },
  {
   "cell_type": "markdown",
   "id": "1539f562",
   "metadata": {},
   "source": [
    "#### Exercise 5:\n",
    "Write code that prints the sum of a list of numbers, Z, of unknown length."
   ]
  },
  {
   "cell_type": "code",
   "execution_count": null,
   "id": "dab17a1e",
   "metadata": {},
   "outputs": [],
   "source": [
    "z = [1,4564,3.14,85]\n"
   ]
  },
  {
   "cell_type": "markdown",
   "id": "bf1e3d7d",
   "metadata": {},
   "source": [
    "\n",
    "#### Challenge\n",
    "Write a weekly pay calculator that calculates and prints pay given an hourly rate and number of hours worked. Any hours over 40 is paid as overtime at 1.5 times the hourly rate"
   ]
  },
  {
   "cell_type": "code",
   "execution_count": null,
   "id": "892500ae",
   "metadata": {},
   "outputs": [],
   "source": [
    "num_hour=[40,20,30,50,19,23]\n",
    "pay_rate=[25,50,23.45,54,104,16]"
   ]
  },
  {
   "cell_type": "code",
   "execution_count": null,
   "id": "657dea2d",
   "metadata": {},
   "outputs": [],
   "source": [
    "total_num=len(num_hour)\n",
    "\n",
    "for i in range(total_num):\n",
    "    # your code here"
   ]
  },
  {
   "cell_type": "markdown",
   "id": "493d9e08",
   "metadata": {},
   "source": [
    "## Functions\n",
    "\n",
    "Where we have things that we continuously want to repeat, it often makes more sense to put these into a pre-written bits which can be called using function name. These are great for 2 reasons:\n",
    "- [x] Reduces the amount of repeated code you have to write-\n",
    "- [x] Makes your code *much* easier to read\n",
    "\n",
    "We can either use the pre-built ones which are included within Python, for example:\n",
    "- `len()` - Returns the length of a list or a string\n",
    "- `min(<list>)` - Returns the smallest element in a list\n",
    "- `max(<list>)` - Returns the largest element in a list\n",
    "\n",
    "Or we can define our own functions using the `def` function\n",
    "\n",
    "**When defining the function for the first time**\n",
    "\n",
    "`def <YourFunctionName>(<input_1>,<input_2>,.....):\n",
    "    <Your Code Here>\n",
    "    return <Output_1>,<Output_2>,...`\n",
    "\n",
    "**When calling your function**\n",
    "\n",
    "`out_1, out_2 = YourFunctionName(variable_1,variable_2)`\n",
    "\n"
   ]
  },
  {
   "cell_type": "code",
   "execution_count": null,
   "id": "edfde72c",
   "metadata": {},
   "outputs": [],
   "source": [
    "# let's take the odd/even logic we wrote before and put it into a function\n",
    "\n",
    "def MyOddEven(my_number):\n",
    "    if my_number > 0 and my_number % 2 == 0:\n",
    "        out = \"Even\"\n",
    "    elif my_number > 0 and my_number % 2 != 0:\n",
    "        out = \"Odd\"\n",
    "    else:\n",
    "        out = \"Error\"\n",
    "    return out\n",
    "\n",
    "num_list = [1,2,3,4,8,-10]\n",
    "odd_even = []\n",
    "\n",
    "for number in num_list:\n",
    "    odd_even.append(MyOddEven(number))\n",
    "    \n",
    "print(num_list)\n",
    "print(odd_even)"
   ]
  },
  {
   "cell_type": "markdown",
   "id": "2656f625",
   "metadata": {},
   "source": [
    "#### Exercise 6:\n",
    "Write a function named Sum100() that takes two number inputs, X, Y returns “Yes” if X and Y add to 100, and otherwise returns “No”"
   ]
  },
  {
   "cell_type": "code",
   "execution_count": null,
   "id": "03329a1d",
   "metadata": {},
   "outputs": [],
   "source": [
    "value1=50\n",
    "value2=30\n",
    "value3=50\n",
    "\n",
    "def Sum100(value1, value2):\n",
    "    # your code here"
   ]
  },
  {
   "attachments": {
    "image.png": {
     "image/png": "[encoded data removed]"
    }
   },
   "cell_type": "markdown",
   "id": "df3a4ad5",
   "metadata": {},
   "source": [
    "## File I/O\n",
    "\n",
    "More often than not, you won't be generating your data in Python. Generally your client will have data in some sort of file format (whether it be a Excel spreadsheet, a csv, a series of images, a text file etc. etc.).\n",
    "\n",
    "Therefore, we need a way to not only **read** data, but also to **write** our output to somewhere.\n",
    "\n",
    "**Inbuilt Function**\n",
    "Python's `open()` function returns a file objet which can read data as a string into the environment. This can be used for both reading in and writing out data as a stream. However, because it imports things as a long string, it's not the most useful (see below for all the steps involved)\n",
    "\n",
    "\n",
    "**What you'll probably use in real life**\n",
    "In the real world, there are packages that are built for reading data in and exporting data depending on what you're using (e.g. files, SQL databases, data streams etc) which are specialised and a lot easier to use.\n",
    "\n",
    "![image.png](attachment:image.png)\n",
    "\n",
    "Modes available are:\n",
    "\n",
    "- Read (\"r\").\n",
    "- Append (\"a\")\n",
    "- Write (\"w\")\n",
    "- Create (\"x\")\n",
    "You can also choose to open the file in:\n",
    "\n",
    "- Text mode (\"t\")\n",
    "- Binary mode (\"b\")"
   ]
  },
  {
   "cell_type": "code",
   "execution_count": null,
   "id": "ea9ee40b",
   "metadata": {
    "scrolled": true
   },
   "outputs": [],
   "source": [
    "#Check that you're in the right directory - you should see TestData.csv in the list printed out\n",
    "import os\n",
    "os.listdir()"
   ]
  },
  {
   "cell_type": "code",
   "execution_count": null,
   "id": "e305cd7b",
   "metadata": {},
   "outputs": [],
   "source": [
    "with open('TestData.csv','r') as file:\n",
    "    contents = file.read()\n",
    "\n",
    "print(\"Raw File Content:\\n\" + contents)"
   ]
  },
  {
   "cell_type": "code",
   "execution_count": null,
   "id": "1ea75a02",
   "metadata": {},
   "outputs": [],
   "source": [
    "# writing to strings to a .txt file below - check \"readme.txt\" to see this\n",
    "lines = ['Readme', 'How to write text files in Python']\n",
    "with open('readme.txt', 'w') as f:\n",
    "    for line in lines:\n",
    "        f.write(line)\n",
    "        f.write('\\n')"
   ]
  },
  {
   "cell_type": "markdown",
   "id": "0f5a536d",
   "metadata": {},
   "source": [
    "### MUCH EASIER... Pandas"
   ]
  },
  {
   "cell_type": "code",
   "execution_count": null,
   "id": "81deec07",
   "metadata": {},
   "outputs": [],
   "source": [
    "import pandas as pd\n",
    "\n",
    "# Reading a CSV into a DataFrame\n",
    "df = pd.read_csv('TestData.csv')\n",
    "df\n"
   ]
  },
  {
   "cell_type": "markdown",
   "id": "08e172ac",
   "metadata": {},
   "source": [
    "## Packages\n",
    "\n",
    "Instead of reinventing the wheel everytime we want to do things, the Python developer community have developed packages which you can import into your Python environment to run a whole bunch of pre-written functions.\n",
    "\n",
    "To install these packages refer to the pre-reading on the correct use of `pip`, however generally speaking this can be done by running `pip install <package_name>` in Command Prompt\n",
    "\n",
    "To import these into our environment we use the `import <package>` command. Most packages have rather extensive documentation in the relevant [Python Docs Page](https://pypi.org/) or through searching Google for \">Your Package< Docs\". \n",
    "\n",
    "There is also an extensive support network through [StackOverflow](https://stackoverflow.com/) with Q&A for almost anything you will ever need to do (quick debugging tip, if you can't find a StackOverflow post about it, generally your approach is not the best one to do what you're doing)\n",
    "\n",
    "Let's run an example using the random package - i.e. `import random`"
   ]
  },
  {
   "cell_type": "code",
   "execution_count": null,
   "id": "9541ca1a",
   "metadata": {},
   "outputs": [],
   "source": [
    "import math\n",
    "math.sqrt(4)"
   ]
  },
  {
   "cell_type": "code",
   "execution_count": null,
   "id": "90a8dfe6",
   "metadata": {},
   "outputs": [],
   "source": [
    "# this is another form of importing library if the libray is huge and you only need to use one function\n",
    "from math import sqrt\n",
    "sqrt(4)"
   ]
  },
  {
   "cell_type": "code",
   "execution_count": null,
   "id": "1881df99",
   "metadata": {},
   "outputs": [],
   "source": [
    "!pip3 install pandas "
   ]
  },
  {
   "cell_type": "code",
   "execution_count": null,
   "id": "9ba1f222",
   "metadata": {},
   "outputs": [],
   "source": [
    "import pandas as pd  # Import pandas package and give it the handle 'pd'"
   ]
  },
  {
   "cell_type": "code",
   "execution_count": null,
   "id": "3dab1d34",
   "metadata": {},
   "outputs": [],
   "source": [
    "test_data = pd.read_csv('TestData.csv') # Importation of data in one step\n",
    "test_data # Pretty formatting of data using inbuilt functions in pandas"
   ]
  },
  {
   "cell_type": "code",
   "execution_count": null,
   "id": "dc555d4c",
   "metadata": {},
   "outputs": [],
   "source": [
    "print(test_data['Age'].tolist()) # Print list of ID data more easily"
   ]
  },
  {
   "cell_type": "markdown",
   "id": "e4623789",
   "metadata": {},
   "source": [
    "#### Exercise 7 - Using the random package\n",
    "Use random to write a function named dice() which simulates a dice roll, returning a randomly chosen number from 1 to 6.\n",
    "\n",
    "*Hint*: you can use round(X) to round a number X to the nearest integer."
   ]
  },
  {
   "cell_type": "code",
   "execution_count": null,
   "id": "5ee6a179",
   "metadata": {},
   "outputs": [],
   "source": []
  },
  {
   "cell_type": "markdown",
   "id": "6048fd86",
   "metadata": {},
   "source": [
    "# Wrap Up and What's Next\n",
    "\n",
    "This concludes Python 101, you've done a great job to pick all this up in 2 hours, and can continue to use this notebook to play around with what you've learned.\n",
    "\n",
    "The domain of Python use cases is immense and ever expanding as more technologies build it into their products. A small set of examples are below:\n",
    " - **Web Development and Cloud:**\n",
    "  - Uber, Netflix and Youtube, Google all use Python of their back-end \n",
    "  - Most cloud platforms support computation and API interactions in python\n",
    "  - Web Servers can be built in Flask, a python package\n",
    " - **Machine learning and AI:**\n",
    "  - Most popular language for developing prototype and production AI systems.\n",
    "  - Used as a rapid prototyping tool by Tesla, and to build ML models in AWS Sagemaker\n",
    " - **Data Analysis**:\n",
    "  - Numerous packages allow for the analysis of large datasets, and of unconventional data such as plain text.\n",
    "  - Used widely in insurance, finance and banking industries.\n",
    "  \n",
    "\n",
    "## Resources \n",
    "### General Learning\n",
    "[CodeAcademy](https://www.codecademy.com/learn/learn-python-3) has a good entry level course that covers similar content to this course.\n",
    "\n",
    "[W3 Schools](https://www.w3schools.com/python/default.asp) provides a “Try it Yourself” terminal, allowing you to practice coding and receive feedback in real time, it delves into loops, functions, conditional logic and more:\n",
    "\n",
    "### Best Practices\n",
    "Code Style is a thing, and if you make beatiful code note only will your client love you, so will your team for how easily maintainable your code is. The following links are the primary resource for what is good coding:\n",
    "\n",
    "[Python Code Quality: Tools & Best Practices – Real Python](https://realpython.com/python-code-quality/)\n",
    "\n",
    "[PEP 8: The Style Guide for Python Code](https://pep8.org/)\n",
    "\n",
    "#### Stackoverflow and google are always your best friends, and always just try! Don't worry, you won't do any real damage!\n",
    "\n"
   ]
  },
  {
   "cell_type": "code",
   "execution_count": null,
   "id": "532c0e97",
   "metadata": {},
   "outputs": [],
   "source": []
  }
 ],
 "metadata": {
  "kernelspec": {
   "display_name": "Python 3",
   "language": "python",
   "name": "python3"
  },
  "language_info": {
   "codemirror_mode": {
    "name": "ipython",
    "version": 3
   },
   "file_extension": ".py",
   "mimetype": "text/x-python",
   "name": "python",
   "nbconvert_exporter": "python",
   "pygments_lexer": "ipython3",
   "version": "3.9.5"
  }
 },
 "nbformat": 4,
 "nbformat_minor": 5
}
