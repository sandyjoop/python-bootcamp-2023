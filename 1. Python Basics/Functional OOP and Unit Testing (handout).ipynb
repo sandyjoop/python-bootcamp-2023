{
 "cells": [
  {
   "cell_type": "markdown",
   "metadata": {},
   "source": [
    "# Functional programming and Object Orientated Programming\n",
    "\n",
    "## Functional Programming: \n",
    " - Using functions to group code blocks\n",
    " - Think of functional programming like cooking with separate ingredients. You have recipes (functions) that take specific ingredients (data) and give you tasty dishes (results). These recipes don't change the ingredients, and they don't mess up your kitchen. They're like magic spells that transform things without any mess.\n",
    "\n",
    "## Object-Oriented Programming:\n",
    "- Using class to group code blocks\n",
    "- Imagine you're building a virtual world with different characters (objects). Each character has its own unique looks (attributes) and actions (methods). You design a blueprint (class) for creating these characters, so you can make as many as you want. Even if characters are different, they follow the same rules and can do similar things.\n",
    "\n",
    "In a nutshell, functional programming is about using functions to transform data without messing it up, while object-oriented programming is like creating and controlling different characters in a well-organized way. And in Python, you can mix and match these approaches to create powerful and flexible programs.\n",
    "\n",
    "When you are on a project, you will see people using have different preferences for the programming styles. But it is good to know them all!"
   ]
  },
  {
   "cell_type": "markdown",
   "metadata": {},
   "source": [
    "## Building a class\n",
    "\n",
    "1. Class Definition:\n",
    "To define a class, you use the class keyword followed by the name of the class. Class names are typically written in CamelCase (words joined together with each word capitalized). For example:"
   ]
  },
  {
   "cell_type": "code",
   "execution_count": 42,
   "metadata": {},
   "outputs": [],
   "source": [
    "class Dog:\n",
    "    pass"
   ]
  },
  {
   "cell_type": "markdown",
   "metadata": {},
   "source": [
    "2. Attributes:\n",
    "Attributes are variables that hold data about an object. They represent the characteristics or properties of the objects created from the class. Attributes are defined within the class and can have different values for different objects."
   ]
  },
  {
   "cell_type": "code",
   "execution_count": 43,
   "metadata": {},
   "outputs": [],
   "source": [
    "class Dog:\n",
    "    def __init__(self, name, breed):\n",
    "        self.name = name\n",
    "        self.breed = breed"
   ]
  },
  {
   "cell_type": "markdown",
   "metadata": {},
   "source": [
    "In this example, the `__init__` method is a special method used to initialize the attributes of the object when it's created.\n",
    "\n",
    "3. Methods:\n",
    "Methods are functions defined within a class. They represent the actions or behaviors that the objects can perform. Methods often operate on the attributes of the class."
   ]
  },
  {
   "cell_type": "markdown",
   "metadata": {},
   "source": [
    "# "
   ]
  },
  {
   "cell_type": "code",
   "execution_count": 44,
   "metadata": {},
   "outputs": [],
   "source": [
    "class Dog:\n",
    "    def __init__(self, name, breed):\n",
    "        self.name = name\n",
    "        self.breed = breed\n",
    "\n",
    "    def bark(self):\n",
    "        print(f\"{self.name} is barking!\")"
   ]
  },
  {
   "cell_type": "markdown",
   "metadata": {},
   "source": [
    "In this case, the `bark` method is defined, which allows an instance of the `Dog class` to bark."
   ]
  },
  {
   "cell_type": "code",
   "execution_count": 45,
   "metadata": {},
   "outputs": [],
   "source": [
    "my_dog = Dog(\"Buddy\", \"Golden Retriever\")"
   ]
  },
  {
   "cell_type": "code",
   "execution_count": 46,
   "metadata": {},
   "outputs": [
    {
     "name": "stdout",
     "output_type": "stream",
     "text": [
      "Buddy\n",
      "Buddy is barking!\n"
     ]
    }
   ],
   "source": [
    "print(my_dog.name)  # Output: Buddy\n",
    "my_dog.bark()       "
   ]
  },
  {
   "cell_type": "markdown",
   "metadata": {},
   "source": [
    "**Exercise: Creating a Bank Account Class**\n",
    "\n",
    "Create a Python class named `BankAccount` that represents a simple bank account. The class should have the following attributes and methods:\n",
    "\n",
    "Attributes:\n",
    "- `account_number` (a string)\n",
    "- `account_holder` (a string)\n",
    "- `balance` (a floating-point number, initially set to 0.0)\n",
    "\n",
    "Methods:\n",
    "- `deposit(amount)`: Adds the given amount to the account's balance.\n",
    "- `withdraw(amount)`: Subtracts the given amount from the account's balance, if sufficient funds are available.\n",
    "- `get_balance()`: Returns the current balance of the account.\n",
    "\n"
   ]
  },
  {
   "cell_type": "code",
   "execution_count": 47,
   "metadata": {},
   "outputs": [
    {
     "name": "stdout",
     "output_type": "stream",
     "text": [
      "Deposited 1000.00 units. New balance: 1000.00\n",
      "Withdrew 300.00 units. New balance: 700.00\n",
      "Insufficient funds.\n",
      "Current balance: 700.00\n"
     ]
    }
   ],
   "source": []
  },
  {
   "cell_type": "markdown",
   "metadata": {},
   "source": [
    "\n",
    "---\n",
    "\n",
    "# Introduction to Unit Testing with PyTest\n",
    "\n",
    "Welcome to this tutorial on using PyTest for unit testing in Python. Unit testing is a fundamental practice in software development where individual components (units) of a program are tested in isolation to ensure they work as expected. PyTest is a popular testing framework that simplifies the process of writing and running unit tests. In this tutorial, we'll cover the basics of unit testing using PyTest.\n",
    "\n",
    "## Prerequisites\n",
    "\n",
    "Before you begin, make sure you have Python and PyTest installed. You can install PyTest using the following command:"
   ]
  },
  {
   "cell_type": "code",
   "execution_count": 48,
   "metadata": {},
   "outputs": [
    {
     "name": "stdout",
     "output_type": "stream",
     "text": [
      "Requirement already satisfied: pytest in c:\\users\\shawzhao\\appdata\\local\\programs\\python\\python310\\lib\\site-packages (7.4.0)\n",
      "Requirement already satisfied: packaging in c:\\users\\shawzhao\\appdata\\roaming\\python\\python310\\site-packages (from pytest) (23.1)\n",
      "Requirement already satisfied: iniconfig in c:\\users\\shawzhao\\appdata\\local\\programs\\python\\python310\\lib\\site-packages (from pytest) (2.0.0)\n",
      "Requirement already satisfied: exceptiongroup>=1.0.0rc8 in c:\\users\\shawzhao\\appdata\\local\\programs\\python\\python310\\lib\\site-packages (from pytest) (1.1.3)\n",
      "Requirement already satisfied: pluggy<2.0,>=0.12 in c:\\users\\shawzhao\\appdata\\local\\programs\\python\\python310\\lib\\site-packages (from pytest) (1.2.0)\n",
      "Requirement already satisfied: tomli>=1.0.0 in c:\\users\\shawzhao\\appdata\\local\\programs\\python\\python310\\lib\\site-packages (from pytest) (2.0.1)\n",
      "Requirement already satisfied: colorama in c:\\users\\shawzhao\\appdata\\roaming\\python\\python310\\site-packages (from pytest) (0.4.6)\n"
     ]
    },
    {
     "name": "stderr",
     "output_type": "stream",
     "text": [
      "WARNING: You are using pip version 21.2.4; however, version 23.2.1 is available.\n",
      "You should consider upgrading via the 'C:\\Users\\shawzhao\\AppData\\Local\\Programs\\Python\\Python310\\python.exe -m pip install --upgrade pip' command.\n"
     ]
    }
   ],
   "source": [
    "!pip install pytest\n"
   ]
  },
  {
   "cell_type": "markdown",
   "metadata": {},
   "source": [
    "## Step 1: Project Structure\n",
    "Let's start by setting up the project structure:\n",
    "```python\n",
    "project_folder/\n",
    "├── my_module.py\n",
    "└── tests/\n",
    "    └── test_my_module.py\n",
    "```\n"
   ]
  },
  {
   "cell_type": "markdown",
   "metadata": {},
   "source": [
    "## Step 2: Writing Your First Test\n",
    "In my_module.py, we have a few simple functions.\n",
    "In tests folder, we have a script for testing the functions in my_module.py"
   ]
  },
  {
   "cell_type": "markdown",
   "metadata": {},
   "source": [
    "## Step 3: Running Tests\n",
    "Commind line"
   ]
  },
  {
   "cell_type": "code",
   "execution_count": null,
   "metadata": {},
   "outputs": [
    {
     "name": "stdout",
     "output_type": "stream",
     "text": [
      "\u001b[1m============================= test session starts =============================\u001b[0m\n",
      "platform win32 -- Python 3.10.1, pytest-7.4.0, pluggy-1.2.0\n",
      "rootdir: c:\\Users\\shawzhao\\OneDrive - Deloitte (O365D)\\Documents\\python\n",
      "collected 7 items\n",
      "\n",
      "tests\\test_my_module.py \u001b[32m.\u001b[0m\u001b[32m.\u001b[0m\u001b[32m.\u001b[0m\u001b[32m.\u001b[0m\u001b[32m.\u001b[0m\u001b[32m.\u001b[0m\u001b[32m.\u001b[0m\u001b[32m                                          [100%]\u001b[0m\n",
      "\n",
      "\u001b[32m============================== \u001b[32m\u001b[1m7 passed\u001b[0m\u001b[32m in 0.02s\u001b[0m\u001b[32m ==============================\u001b[0m\n"
     ]
    }
   ],
   "source": [
    "!pytest\n"
   ]
  },
  {
   "cell_type": "markdown",
   "metadata": {},
   "source": [
    "**Note**\n",
    "1. PyTest automatically discovers and runs test functions in files named test_*.py in the tests directory.\n",
    "2. We use the assert statement to verify that the calculated result matches the expected outcome.\n",
    "3. Each test function represents a test case. It's good practice to have one test case for each aspect you want to verify.\n",
    "\n"
   ]
  },
  {
   "cell_type": "markdown",
   "metadata": {},
   "source": [
    "**Exercise: Testing a Math Library**\n",
    "\n",
    "In this exercise, you'll create a simple math library containing basic arithmetic functions and then write tests using PyTest to ensure the correctness of these functions. This exercise will help you practice writing and running tests using PyTest.\n",
    "\n",
    "**Step 1: Set Up the Project**\n",
    "\n",
    "1. Create a directory named \"math_library_project\".\n",
    "2. Inside the \"math_library_project\" directory, create a file named \"math_library.py\" to implement the arithmetic functions.\n",
    "3. Create a subdirectory named \"tests\" inside the \"math_library_project\" directory to store your test files.\n",
    "\n",
    "**Step 2: Implement the Math Library**\n",
    "\n",
    "Open the \"math_library.py\" file and define the following arithmetic functions:\n"
   ]
  },
  {
   "cell_type": "code",
   "execution_count": null,
   "metadata": {},
   "outputs": [],
   "source": [
    "# math_library.py\n",
    "def add(a, b):\n",
    "    return a + b\n",
    "\n",
    "def subtract(a, b):\n",
    "    return a - b\n",
    "\n",
    "def multiply(a, b):\n",
    "    return a * b\n",
    "\n",
    "def divide(a, b):\n",
    "    if b == 0:\n",
    "        raise ValueError(\"Cannot divide by zero\")\n",
    "    return a / b\n"
   ]
  },
  {
   "cell_type": "markdown",
   "metadata": {},
   "source": [
    "## Step 3: Write Tests Using PyTest\n",
    "\n",
    "1. Inside the \"tests\" directory, create a file named \"test_math_library.py\".\n",
    "Write test functions using PyTest to verify the correctness of the functions in \"math_library.py\".\n",
    "2. Here's a sample set of test functions:"
   ]
  },
  {
   "cell_type": "code",
   "execution_count": null,
   "metadata": {},
   "outputs": [],
   "source": []
  }
 ],
 "metadata": {
  "kernelspec": {
   "display_name": "Python 3",
   "language": "python",
   "name": "python3"
  },
  "language_info": {
   "codemirror_mode": {
    "name": "ipython",
    "version": 3
   },
   "file_extension": ".py",
   "mimetype": "text/x-python",
   "name": "python",
   "nbconvert_exporter": "python",
   "pygments_lexer": "ipython3",
   "version": "3.10.1"
  },
  "orig_nbformat": 4
 },
 "nbformat": 4,
 "nbformat_minor": 2
}
