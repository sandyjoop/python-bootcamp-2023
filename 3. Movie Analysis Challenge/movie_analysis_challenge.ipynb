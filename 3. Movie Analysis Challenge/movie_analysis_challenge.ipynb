{
 "cells": [
  {
   "cell_type": "markdown",
   "metadata": {},
   "source": [
    "## Movie Analysis Challenge"
   ]
  },
  {
   "cell_type": "markdown",
   "metadata": {},
   "source": [
    "**Step 1: Data Loading and Initial Exploration (15 minutes)**\n",
    "1. Load the dataset from \"IMDb movies.csv\" file using the Pandas library.\n",
    "2. Display basic information about the dataset: number of rows, columns, data types.\n",
    "3. Show the first few rows of the dataset using `.head()`."
   ]
  },
  {
   "cell_type": "markdown",
   "metadata": {},
   "source": [
    "**Step 2: Data Cleaning and Preprocessing (20 minutes)**\n",
    "1. Show the percentage of missing values in each column.\n",
    "2. Fill empty values in \"language\", \"director\" and \"country\" as \"None\".\n",
    "3. After filling above columns, drop all columns that have empty values.\n",
    "4. Convert duration to hours and year to an integer"
   ]
  },
  {
   "cell_type": "markdown",
   "metadata": {},
   "source": [
    "**Step 3: Basic Data Analysis (30 minutes)**\n",
    "1. Calculate basic statistics such as mean, median, and standard deviation for numeric columns.\n",
    "2. Use conditional statements (if-else) to answer question \"Are there more movies released after 2010?\"\n",
    "3. Visualize data using Matplotlib or Seaborn - create a bar plot of movie genres. If there are multiple genres, pick first value for the plot.\n"
   ]
  },
  {
   "cell_type": "markdown",
   "metadata": {},
   "source": [
    "**Step 4: Exploring Data Using Functions (30 minutes)**\n",
    "1. Define a function in a separate python script to calculate the average duration of movies in a specific genre.\n",
    "2. Create a unit test for the above function using pytest in another python file and test the function.\n",
    "3. Use an external library (e.g., NumPy) to calculate the correlation between year and duration."
   ]
  },
  {
   "cell_type": "markdown",
   "metadata": {},
   "source": [
    "**Step 5: DataFrame Manipulations (30 minutes)**\n",
    "1. Sort the dataset based on year.\n",
    "2. Use a loop to find the most common director in the dataset.\n"
   ]
  },
  {
   "cell_type": "markdown",
   "metadata": {},
   "source": [
    "**Step 6: Advanced Data Analysis (40 minutes)**\n",
    "1. Load another ratings data in \"IMDB ratings\" and merge it with the original dataset.\n",
    "2. Calculate the average rating for each genre and visualize the results.\n",
    "3. Identify the 5 top-rated movies and display their details."
   ]
  },
  {
   "cell_type": "markdown",
   "metadata": {},
   "source": [
    "**Step 7: Data Visualization and Conclusion (30 minutes)**\n",
    "1. Visualize the distribution of \"weighted_average_vote\" using a histogram.\n",
    "2. Has duration, genre or country has affected rating? Summarize key findings and insights from the analysis."
   ]
  },
  {
   "cell_type": "markdown",
   "metadata": {},
   "source": [
    "**Challenging Bonus (20 minutes)**\n",
    "1. Visualize the changing popularity of genres over the years.\n"
   ]
  }
 ],
 "metadata": {
  "kernelspec": {
   "display_name": "Python 3 (ipykernel)",
   "language": "python",
   "name": "python3"
  },
  "language_info": {
   "codemirror_mode": {
    "name": "ipython",
    "version": 3
   },
   "file_extension": ".py",
   "mimetype": "text/x-python",
   "name": "python",
   "nbconvert_exporter": "python",
   "pygments_lexer": "ipython3",
   "version": "3.11.5"
  }
 },
 "nbformat": 4,
 "nbformat_minor": 4
}
